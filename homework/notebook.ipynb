{
 "cells": [
  {
   "cell_type": "code",
   "execution_count": 45,
   "metadata": {},
   "outputs": [
    {
     "data": {
      "text/plain": [
       "{'K0': {0: 'A', 1: 'B', 2: 'C', 3: 'D', 4: 'E'},\n",
       " 'avg(c12)': {0: 476.15, 1: 536.52, 2: 490.83, 3: 709.53, 4: 474.82}}"
      ]
     },
     "execution_count": 45,
     "metadata": {},
     "output_type": "execute_result"
    }
   ],
   "source": [
    "import sqlite3\n",
    "import pandas as pd\n",
    "\n",
    "def load_data():\n",
    "    \"\"\"Load data.\"\"\"\n",
    "    conn = sqlite3.connect(\":memory:\")\n",
    "    cur = conn.cursor()\n",
    "\n",
    "    with open(\"../tests/create_tables.sql\", encoding=\"utf-8\") as file:\n",
    "        cur.executescript(file.read())\n",
    "\n",
    "    return conn, cur\n",
    "\n",
    "\n",
    "conn, _ = load_data()\n",
    "with open(\"pregunta_13.sql\", encoding=\"utf-8\") as file:\n",
    "    query = file.read()\n",
    "result = pd.read_sql_query(query, conn).to_dict()\n",
    "\n",
    "\n",
    "result"
   ]
  }
 ],
 "metadata": {
  "kernelspec": {
   "display_name": ".venv",
   "language": "python",
   "name": "python3"
  },
  "language_info": {
   "codemirror_mode": {
    "name": "ipython",
    "version": 3
   },
   "file_extension": ".py",
   "mimetype": "text/x-python",
   "name": "python",
   "nbconvert_exporter": "python",
   "pygments_lexer": "ipython3",
   "version": "3.12.8"
  }
 },
 "nbformat": 4,
 "nbformat_minor": 2
}
